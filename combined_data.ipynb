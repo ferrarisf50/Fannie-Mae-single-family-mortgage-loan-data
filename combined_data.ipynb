{
 "cells": [
  {
   "cell_type": "code",
   "execution_count": 1,
   "metadata": {
    "collapsed": false
   },
   "outputs": [],
   "source": [
    "import pandas as pd\n",
    "import numpy as np\n",
    "\n",
    "\n",
    "pd.set_option(\"max_colwidth\",1000000)\n",
    "pd.set_option('max_columns', 50)"
   ]
  },
  {
   "cell_type": "code",
   "execution_count": 5,
   "metadata": {
    "collapsed": false
   },
   "outputs": [],
   "source": [
    "Acquisitions_Variables =[\"LOAN_ID\", \"ORIG_CHN\", \"Seller.Name\", \"ORIG_RT\", \"ORIG_AMT\", \"ORIG_TRM\", \"ORIG_DTE\"\n",
    "                           ,\"FRST_DTE\", \"OLTV\", \"OCLTV\", \"NUM_BO\", \"DTI\", \"CSCORE_B\", \"FTHB_FLG\", \"PURPOSE\", \"PROP_TYP\"\n",
    "                           ,\"NUM_UNIT\", \"OCC_STAT\", \"STATE\", \"ZIP_3\", \"MI_PCT\", \"Product.Type\", \"CSCORE_C\", \"MI_TYPE\", \"RELOCATION_FLG\"]\n",
    "Performance_Variables = [\"LOAN_ID\", \"Monthly.Rpt.Prd\", \"Servicer.Name\", \"LAST_RT\", \"LAST_UPB\", \"Loan.Age\", \"Months.To.Legal.Mat\"\n",
    "                          , \"Adj.Month.To.Mat\", \"Maturity.Date\", \"MSA\", \"Delq.Status\", \"MOD_FLAG\", \"Zero.Bal.Code\", \n",
    "                          \"ZB_DTE\", \"LPI_DTE\", \"FCC_DTE\",\"DISP_DT\", \"FCC_COST\", \"PP_COST\", \"AR_COST\", \"IE_COST\", \"TAX_COST\", \"NS_PROCS\",\n",
    "                          \"CE_PROCS\", \"RMW_PROCS\", \"O_PROCS\", \"NON_INT_UPB\", \"PRIN_FORG_UPB_FHFA\", \"REPCH_FLAG\", \"PRIN_FORG_UPB_OTH\", \"TRANSFER_FLG\"]\n",
    "\n",
    "\n",
    "\n",
    "\n",
    "\n",
    "\n",
    "Data_A= pd.read_csv('Acquisition_2007Q3.txt', sep='|', \n",
    "                    names=Acquisitions_Variables, \n",
    "                    index_col=False)\n",
    "Data_P = pd.read_csv('Performance_2007Q3.txt', sep='|', \n",
    "                     names=Performance_Variables, \n",
    "                     index_col=False)"
   ]
  },
  {
   "cell_type": "code",
   "execution_count": 6,
   "metadata": {
    "collapsed": false
   },
   "outputs": [
    {
     "name": "stdout",
     "output_type": "stream",
     "text": [
      "<class 'pandas.core.frame.DataFrame'>\n",
      "RangeIndex: 16661889 entries, 0 to 16661888\n",
      "Data columns (total 31 columns):\n",
      "LOAN_ID                int64\n",
      "Monthly.Rpt.Prd        object\n",
      "Servicer.Name          object\n",
      "LAST_RT                float64\n",
      "LAST_UPB               float64\n",
      "Loan.Age               int64\n",
      "Months.To.Legal.Mat    float64\n",
      "Adj.Month.To.Mat       float64\n",
      "Maturity.Date          object\n",
      "MSA                    int64\n",
      "Delq.Status            object\n",
      "MOD_FLAG               object\n",
      "Zero.Bal.Code          float64\n",
      "ZB_DTE                 object\n",
      "LPI_DTE                object\n",
      "FCC_DTE                object\n",
      "DISP_DT                object\n",
      "FCC_COST               float64\n",
      "PP_COST                float64\n",
      "AR_COST                float64\n",
      "IE_COST                float64\n",
      "TAX_COST               float64\n",
      "NS_PROCS               float64\n",
      "CE_PROCS               float64\n",
      "RMW_PROCS              float64\n",
      "O_PROCS                float64\n",
      "NON_INT_UPB            float64\n",
      "PRIN_FORG_UPB_FHFA     float64\n",
      "REPCH_FLAG             object\n",
      "PRIN_FORG_UPB_OTH      float64\n",
      "TRANSFER_FLG           object\n",
      "dtypes: float64(17), int64(3), object(11)\n",
      "memory usage: 3.8+ GB\n"
     ]
    }
   ],
   "source": [
    "Data_P.info()"
   ]
  },
  {
   "cell_type": "code",
   "execution_count": 7,
   "metadata": {
    "collapsed": false
   },
   "outputs": [],
   "source": [
    "Data_P.drop_duplicates(subset='LOAN_ID', keep='last', inplace=True)\n",
    "Combined_Data = pd.merge(Data_A, Data_P, on='LOAN_ID', how='inner')"
   ]
  },
  {
   "cell_type": "code",
   "execution_count": 9,
   "metadata": {
    "collapsed": true
   },
   "outputs": [],
   "source": [
    "Combined_Data.to_csv(\"Combined_Data_2007Q3.txt\",sep='|',index=False,header=False)"
   ]
  },
  {
   "cell_type": "code",
   "execution_count": null,
   "metadata": {
    "collapsed": true
   },
   "outputs": [],
   "source": []
  }
 ],
 "metadata": {
  "anaconda-cloud": {},
  "kernelspec": {
   "display_name": "Python [default]",
   "language": "python",
   "name": "python3"
  },
  "language_info": {
   "codemirror_mode": {
    "name": "ipython",
    "version": 3
   },
   "file_extension": ".py",
   "mimetype": "text/x-python",
   "name": "python",
   "nbconvert_exporter": "python",
   "pygments_lexer": "ipython3",
   "version": "3.5.2"
  }
 },
 "nbformat": 4,
 "nbformat_minor": 1
}
